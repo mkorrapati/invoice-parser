{
 "cells": [
  {
   "cell_type": "code",
   "execution_count": 1,
   "metadata": {},
   "outputs": [
    {
     "name": "stdout",
     "output_type": "stream",
     "text": [
      "Collecting git+https://github.com/invoice-x/invoice2data.git (from -r requirements.txt (line 1))\n",
      "  Cloning https://github.com/invoice-x/invoice2data.git to c:\\users\\326338\\appdata\\local\\temp\\pip-req-build-thq0pscj\n",
      "  Resolved https://github.com/invoice-x/invoice2data.git to commit 765e63104fdd49d1a9ed8ff49ad7a2cf19c26e93\n",
      "  Installing build dependencies: started\n",
      "  Installing build dependencies: finished with status 'done'\n",
      "  Getting requirements to build wheel: started\n",
      "  Getting requirements to build wheel: finished with status 'done'\n",
      "  Installing backend dependencies: started\n",
      "  Installing backend dependencies: finished with status 'done'\n",
      "  Preparing metadata (pyproject.toml): started\n",
      "  Preparing metadata (pyproject.toml): finished with status 'done'\n",
      "Requirement already satisfied: pandas in c:\\users\\326338\\projects\\invoice_parser\\.venv\\lib\\site-packages (from -r requirements.txt (line 2)) (2.1.4)\n",
      "Requirement already satisfied: pillow in c:\\users\\326338\\projects\\invoice_parser\\.venv\\lib\\site-packages (from invoice2data==0.4.5->-r requirements.txt (line 1)) (10.1.0)\n",
      "Requirement already satisfied: pyyaml in c:\\users\\326338\\projects\\invoice_parser\\.venv\\lib\\site-packages (from invoice2data==0.4.5->-r requirements.txt (line 1)) (6.0.1)\n",
      "Requirement already satisfied: dateparser in c:\\users\\326338\\projects\\invoice_parser\\.venv\\lib\\site-packages (from invoice2data==0.4.5->-r requirements.txt (line 1)) (1.2.0)\n",
      "Requirement already satisfied: numpy<2,>=1.22.4 in c:\\users\\326338\\projects\\invoice_parser\\.venv\\lib\\site-packages (from pandas->-r requirements.txt (line 2)) (1.26.2)\n",
      "Requirement already satisfied: python-dateutil>=2.8.2 in c:\\users\\326338\\projects\\invoice_parser\\.venv\\lib\\site-packages (from pandas->-r requirements.txt (line 2)) (2.8.2)\n",
      "Requirement already satisfied: pytz>=2020.1 in c:\\users\\326338\\projects\\invoice_parser\\.venv\\lib\\site-packages (from pandas->-r requirements.txt (line 2)) (2023.3.post1)\n",
      "Requirement already satisfied: tzdata>=2022.1 in c:\\users\\326338\\projects\\invoice_parser\\.venv\\lib\\site-packages (from pandas->-r requirements.txt (line 2)) (2023.3)\n",
      "Requirement already satisfied: six>=1.5 in c:\\users\\326338\\projects\\invoice_parser\\.venv\\lib\\site-packages (from python-dateutil>=2.8.2->pandas->-r requirements.txt (line 2)) (1.16.0)\n",
      "Requirement already satisfied: regex!=2019.02.19,!=2021.8.27 in c:\\users\\326338\\projects\\invoice_parser\\.venv\\lib\\site-packages (from dateparser->invoice2data==0.4.5->-r requirements.txt (line 1)) (2023.10.3)\n",
      "Requirement already satisfied: tzlocal in c:\\users\\326338\\projects\\invoice_parser\\.venv\\lib\\site-packages (from dateparser->invoice2data==0.4.5->-r requirements.txt (line 1)) (5.2)\n",
      "Note: you may need to restart the kernel to use updated packages.\n"
     ]
    },
    {
     "name": "stderr",
     "output_type": "stream",
     "text": [
      "  Running command git clone --filter=blob:none --quiet https://github.com/invoice-x/invoice2data.git 'C:\\Users\\326338\\AppData\\Local\\Temp\\pip-req-build-thq0pscj'\n"
     ]
    }
   ],
   "source": [
    "%pip install -r requirements.txt"
   ]
  },
  {
   "cell_type": "code",
   "execution_count": null,
   "metadata": {},
   "outputs": [],
   "source": []
  }
 ],
 "metadata": {
  "kernelspec": {
   "display_name": ".venv",
   "language": "python",
   "name": "python3"
  },
  "language_info": {
   "codemirror_mode": {
    "name": "ipython",
    "version": 3
   },
   "file_extension": ".py",
   "mimetype": "text/x-python",
   "name": "python",
   "nbconvert_exporter": "python",
   "pygments_lexer": "ipython3",
   "version": "3.9.13"
  }
 },
 "nbformat": 4,
 "nbformat_minor": 2
}
